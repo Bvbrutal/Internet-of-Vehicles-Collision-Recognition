{
 "cells": [
  {
   "cell_type": "code",
   "execution_count": 2,
   "metadata": {
    "collapsed": true
   },
   "outputs": [],
   "source": [
    "# 导入必要的库\n",
    "import lightgbm as lgb\n",
    "import numpy as np\n",
    "import pandas as pd\n",
    "from sklearn.model_selection import train_test_split\n",
    "from sklearn.metrics import accuracy_score, mean_squared_error"
   ]
  },
  {
   "cell_type": "code",
   "execution_count": 3,
   "outputs": [
    {
     "name": "stdout",
     "output_type": "stream",
     "text": [
      "(150, 4) (150,)\n",
      "['sepal length (cm)', 'sepal width (cm)', 'petal length (cm)', 'petal width (cm)']\n"
     ]
    }
   ],
   "source": [
    "from sklearn import datasets\n",
    "import matplotlib.pyplot as plt\n",
    "\n",
    "iris = datasets.load_iris()\n",
    "features = iris.data\n",
    "target = iris.target\n",
    "print(features.shape,target.shape)\n",
    "print(iris.feature_names)"
   ],
   "metadata": {
    "collapsed": false
   }
  },
  {
   "cell_type": "code",
   "execution_count": 4,
   "outputs": [
    {
     "data": {
      "text/plain": "numpy.ndarray"
     },
     "execution_count": 4,
     "metadata": {},
     "output_type": "execute_result"
    }
   ],
   "source": [
    "type(features)"
   ],
   "metadata": {
    "collapsed": false
   }
  },
  {
   "cell_type": "code",
   "execution_count": 6,
   "outputs": [
    {
     "data": {
      "text/plain": "<memory at 0x0000021D5767BE10>"
     },
     "execution_count": 6,
     "metadata": {},
     "output_type": "execute_result"
    }
   ],
   "source": [
    "features.data"
   ],
   "metadata": {
    "collapsed": false
   }
  },
  {
   "cell_type": "code",
   "execution_count": 7,
   "outputs": [
    {
     "data": {
      "text/plain": "<function ndarray.all>"
     },
     "execution_count": 7,
     "metadata": {},
     "output_type": "execute_result"
    }
   ],
   "source": [
    "    features.all"
   ],
   "metadata": {
    "collapsed": false
   }
  },
  {
   "cell_type": "code",
   "execution_count": null,
   "outputs": [],
   "source": [],
   "metadata": {
    "collapsed": false
   }
  },
  {
   "cell_type": "code",
   "execution_count": 8,
   "outputs": [
    {
     "name": "stdout",
     "output_type": "stream",
     "text": [
      "Z-Score标准化后的数据：\n",
      "[[-1.22474487 -1.22474487 -1.22474487]\n",
      " [ 0.          0.          0.        ]\n",
      " [ 1.22474487  1.22474487  1.22474487]]\n",
      "\n",
      "Min-Max标准化后的数据：\n",
      "[[0.  0.  0. ]\n",
      " [0.5 0.5 0.5]\n",
      " [1.  1.  1. ]]\n",
      "\n",
      "Robust标准化后的数据：\n",
      "[[-1. -1. -1.]\n",
      " [ 0.  0.  0.]\n",
      " [ 1.  1.  1.]]\n"
     ]
    }
   ],
   "source": [
    "import numpy as np\n",
    "from sklearn.preprocessing import StandardScaler, MinMaxScaler, RobustScaler\n",
    "\n",
    "# 创建一个示例数据集\n",
    "data = np.array([[1.0, 2.0, 3.0],\n",
    "                 [4.0, 5.0, 6.0],\n",
    "                 [7.0, 8.0, 9.0]])\n",
    "\n",
    "# Z-Score标准化\n",
    "zscore_scaler = StandardScaler()\n",
    "zscore_scaled_data = zscore_scaler.fit_transform(data)\n",
    "print(\"Z-Score标准化后的数据：\")\n",
    "print(zscore_scaled_data)\n",
    "\n",
    "# Min-Max标准化\n",
    "minmax_scaler = MinMaxScaler()\n",
    "minmax_scaled_data = minmax_scaler.fit_transform(data)\n",
    "print(\"\\nMin-Max标准化后的数据：\")\n",
    "print(minmax_scaled_data)\n",
    "\n",
    "# Robust标准化\n",
    "robust_scaler = RobustScaler()\n",
    "robust_scaled_data = robust_scaler.fit_transform(data)\n",
    "print(\"\\nRobust标准化后的数据：\")\n",
    "print(robust_scaled_data)"
   ],
   "metadata": {
    "collapsed": false
   }
  },
  {
   "cell_type": "code",
   "execution_count": null,
   "outputs": [],
   "source": [
    "\n",
    "# 加载示例数据集（可以替换为您自己的数据集）\n",
    "data = pd.read_csv('your_dataset.csv')\n",
    "X = data.drop('target_column', axis=1)  # 特征数据\n",
    "y = data['target_column']  # 目标数据\n",
    "\n",
    "# 将数据拆分为训练集和测试集\n",
    "X_train, X_test, y_train, y_test = train_test_split(X, y, test_size=0.2, random_state=42)\n",
    "\n",
    "# 创建LightGBM数据集\n",
    "train_data = lgb.Dataset(X_train, label=y_train)\n",
    "test_data = lgb.Dataset(X_test, label=y_test, reference=train_data)\n",
    "\n",
    "# 设置LightGBM参数\n",
    "params = {\n",
    "    'objective': 'regression',  # 选择回归任务\n",
    "    'metric': 'rmse',  # 评估指标为均方根误差\n",
    "    'boosting_type': 'gbdt',  # 使用梯度提升决策树\n",
    "    'num_leaves': 31,  # 决策树的叶子节点数\n",
    "    'learning_rate': 0.05,  # 学习率\n",
    "    'feature_fraction': 0.9,  # 每次迭代中随机选择特征的比例\n",
    "    'bagging_fraction': 0.8,  # 每次迭代中随机选择数据的比例\n",
    "    'bagging_freq': 5,  # bagging的频率\n",
    "    'verbose': 0  # 显示训练过程\n",
    "}\n",
    "\n",
    "# 训练LightGBM模型\n",
    "num_round = 100  # 迭代次数\n",
    "bst = lgb.train(params, train_data, num_round, valid_sets=[test_data], early_stopping_rounds=10)\n",
    "\n",
    "# 预测\n",
    "y_pred = bst.predict(X_test, num_iteration=bst.best_iteration)\n",
    "\n",
    "# 评估模型性能（均方根误差）\n",
    "mse = mean_squared_error(y_test, y_pred)\n",
    "rmse = np.sqrt(mse)\n",
    "print(f'均方根误差 (RMSE): {rmse}')\n",
    "\n",
    "# 可以根据需要保存和加载模型\n",
    "# bst.save_model('lgb_model.txt')\n",
    "# bst = lgb.Booster(model_file='lgb_model.txt')\n"
   ],
   "metadata": {
    "collapsed": false
   }
  }
 ],
 "metadata": {
  "kernelspec": {
   "display_name": "Python 3",
   "language": "python",
   "name": "python3"
  },
  "language_info": {
   "codemirror_mode": {
    "name": "ipython",
    "version": 2
   },
   "file_extension": ".py",
   "mimetype": "text/x-python",
   "name": "python",
   "nbconvert_exporter": "python",
   "pygments_lexer": "ipython2",
   "version": "2.7.6"
  }
 },
 "nbformat": 4,
 "nbformat_minor": 0
}
