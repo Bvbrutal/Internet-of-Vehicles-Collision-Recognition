{
 "cells": [
  {
   "cell_type": "code",
   "execution_count": 2,
   "metadata": {
    "collapsed": true
   },
   "outputs": [],
   "source": [
    "# 导入必要的库\n",
    "import lightgbm as lgb\n",
    "import pandas as pd\n",
    "from sklearn.metrics import mean_squared_error\n",
    "from sklearn.model_selection import train_test_split"
   ]
  },
  {
   "cell_type": "code",
   "execution_count": 3,
   "outputs": [
    {
     "name": "stdout",
     "output_type": "stream",
     "text": [
      "(150, 4) (150,)\n",
      "['sepal length (cm)', 'sepal width (cm)', 'petal length (cm)', 'petal width (cm)']\n"
     ]
    }
   ],
   "source": [
    "from sklearn import datasets\n",
    "\n",
    "iris = datasets.load_iris()\n",
    "features = iris.data\n",
    "target = iris.target\n",
    "print(features.shape, target.shape)\n",
    "print(iris.feature_names)"
   ],
   "metadata": {
    "collapsed": false
   }
  },
  {
   "cell_type": "code",
   "execution_count": 4,
   "outputs": [
    {
     "data": {
      "text/plain": "numpy.ndarray"
     },
     "execution_count": 4,
     "metadata": {},
     "output_type": "execute_result"
    }
   ],
   "source": [
    "type(features)"
   ],
   "metadata": {
    "collapsed": false
   }
  },
  {
   "cell_type": "code",
   "execution_count": 6,
   "outputs": [
    {
     "data": {
      "text/plain": "<memory at 0x0000021D5767BE10>"
     },
     "execution_count": 6,
     "metadata": {},
     "output_type": "execute_result"
    }
   ],
   "source": [
    "features.data"
   ],
   "metadata": {
    "collapsed": false
   }
  },
  {
   "cell_type": "code",
   "execution_count": 7,
   "outputs": [
    {
     "data": {
      "text/plain": "<function ndarray.all>"
     },
     "execution_count": 7,
     "metadata": {},
     "output_type": "execute_result"
    }
   ],
   "source": [
    "    features.all"
   ],
   "metadata": {
    "collapsed": false
   }
  },
  {
   "cell_type": "code",
   "execution_count": null,
   "outputs": [],
   "source": [],
   "metadata": {
    "collapsed": false
   }
  },
  {
   "cell_type": "code",
   "execution_count": 8,
   "outputs": [
    {
     "name": "stdout",
     "output_type": "stream",
     "text": [
      "Z-Score标准化后的数据：\n",
      "[[-1.22474487 -1.22474487 -1.22474487]\n",
      " [ 0.          0.          0.        ]\n",
      " [ 1.22474487  1.22474487  1.22474487]]\n",
      "\n",
      "Min-Max标准化后的数据：\n",
      "[[0.  0.  0. ]\n",
      " [0.5 0.5 0.5]\n",
      " [1.  1.  1. ]]\n",
      "\n",
      "Robust标准化后的数据：\n",
      "[[-1. -1. -1.]\n",
      " [ 0.  0.  0.]\n",
      " [ 1.  1.  1.]]\n"
     ]
    }
   ],
   "source": [
    "import numpy as np\n",
    "from sklearn.preprocessing import StandardScaler, MinMaxScaler, RobustScaler\n",
    "\n",
    "# 创建一个示例数据集\n",
    "data = np.array([[1.0, 2.0, 3.0],\n",
    "                 [4.0, 5.0, 6.0],\n",
    "                 [7.0, 8.0, 9.0]])\n",
    "\n",
    "# Z-Score标准化\n",
    "zscore_scaler = StandardScaler()\n",
    "zscore_scaled_data = zscore_scaler.fit_transform(data)\n",
    "print(\"Z-Score标准化后的数据：\")\n",
    "print(zscore_scaled_data)\n",
    "\n",
    "# Min-Max标准化\n",
    "minmax_scaler = MinMaxScaler()\n",
    "minmax_scaled_data = minmax_scaler.fit_transform(data)\n",
    "print(\"\\nMin-Max标准化后的数据：\")\n",
    "print(minmax_scaled_data)\n",
    "\n",
    "# Robust标准化\n",
    "robust_scaler = RobustScaler()\n",
    "robust_scaled_data = robust_scaler.fit_transform(data)\n",
    "print(\"\\nRobust标准化后的数据：\")\n",
    "print(robust_scaled_data)"
   ],
   "metadata": {
    "collapsed": false
   }
  },
  {
   "cell_type": "code",
   "execution_count": null,
   "outputs": [],
   "source": [
    "# 加载示例数据集（可以替换为您自己的数据集）\n",
    "data = pd.read_csv('your_dataset.csv')\n",
    "X = data.drop('target_column', axis=1)  # 特征数据\n",
    "y = data['target_column']  # 目标数据\n",
    "\n",
    "# 将数据拆分为训练集和测试集\n",
    "X_train, X_test, y_train, y_test = train_test_split(X, y, test_size=0.2, random_state=42)\n",
    "\n",
    "# 创建LightGBM数据集\n",
    "train_data = lgb.Dataset(X_train, label=y_train)\n",
    "test_data = lgb.Dataset(X_test, label=y_test, reference=train_data)\n",
    "\n",
    "# 设置LightGBM参数\n",
    "params = {\n",
    "    'objective': 'regression',  # 选择回归任务\n",
    "    'metric': 'rmse',  # 评估指标为均方根误差\n",
    "    'boosting_type': 'gbdt',  # 使用梯度提升决策树\n",
    "    'num_leaves': 31,  # 决策树的叶子节点数\n",
    "    'learning_rate': 0.05,  # 学习率\n",
    "    'feature_fraction': 0.9,  # 每次迭代中随机选择特征的比例\n",
    "    'bagging_fraction': 0.8,  # 每次迭代中随机选择数据的比例\n",
    "    'bagging_freq': 5,  # bagging的频率\n",
    "    'verbose': 0  # 显示训练过程\n",
    "}\n",
    "\n",
    "# 训练LightGBM模型\n",
    "num_round = 100  # 迭代次数\n",
    "bst = lgb.train(params, train_data, num_round, valid_sets=[test_data], early_stopping_rounds=10)\n",
    "\n",
    "# 预测\n",
    "y_pred = bst.predict(X_test, num_iteration=bst.best_iteration)\n",
    "\n",
    "# 评估模型性能（均方根误差）\n",
    "mse = mean_squared_error(y_test, y_pred)\n",
    "rmse = np.sqrt(mse)\n",
    "print(f'均方根误差 (RMSE): {rmse}')\n",
    "\n",
    "# 可以根据需要保存和加载模型\n",
    "# bst.save_model('lgb_model.txt')\n",
    "# bst = lgb.Booster(model_file='lgb_model.txt')\n"
   ],
   "metadata": {
    "collapsed": false
   }
  },
  {
   "cell_type": "code",
   "execution_count": null,
   "outputs": [],
   "source": [],
   "metadata": {
    "collapsed": false
   }
  },
  {
   "cell_type": "code",
   "execution_count": null,
   "outputs": [],
   "source": [],
   "metadata": {
    "collapsed": false
   }
  },
  {
   "cell_type": "code",
   "execution_count": null,
   "outputs": [],
   "source": [
    "pd.to_numeric(df[\"column_name\"], errors='coerce').fillna(0).astype(int)"
   ],
   "metadata": {
    "collapsed": false
   }
  },
  {
   "cell_type": "code",
   "execution_count": 280,
   "outputs": [],
   "source": [
    "import pandas as pd\n",
    "# 导入必要的库\n",
    "import lightgbm as lgb\n",
    "from sklearn.model_selection import train_test_split"
   ],
   "metadata": {
    "collapsed": false
   }
  },
  {
   "cell_type": "code",
   "execution_count": 288,
   "outputs": [
    {
     "name": "stderr",
     "output_type": "stream",
     "text": [
      "C:\\Users\\Polo\\AppData\\Local\\Temp\\ipykernel_30292\\2233142213.py:1: DtypeWarning: Columns (4,5,6,12,13,16) have mixed types. Specify dtype option on import or set low_memory=False.\n",
      "  df=pd.read_csv(r'C:\\Users\\Polo\\Desktop\\dw_casl_user_sample_feature.csv')\n"
     ]
    }
   ],
   "source": [
    "df = pd.read_csv(r'C:\\Users\\Polo\\Desktop\\dw_casl_user_sample_feature.csv')"
   ],
   "metadata": {
    "collapsed": false
   }
  },
  {
   "cell_type": "code",
   "execution_count": 289,
   "outputs": [],
   "source": [
    "# 空值处理\n",
    "df = df.drop(['msisdn', 'imsi'], axis=1)  #删除加密的特征\n",
    "df.loc[df['is_comm_user'] == r'\\N', 'is_comm_user'] = None  #是否为移动用户\\N置为空值\n",
    "df.loc[df['is_init_comm_user'] == r'\\N', 'is_init_comm_user'] = None  #是否主动通信用户\\N置为空值\n",
    "df.loc[df['cust_star'] == r'\\N', 'cust_star'] = None  #客户星级\\N置为空值\n",
    "df.loc[df['dome_roam_flux_days'] == r'\\N', 'dome_roam_flux_days'] = None  #省际漫游流量天数\\N置为空值\n",
    "df.loc[df['inter_roam_flux_days'] == r'\\N', 'inter_roam_flux_days'] = None  #国际漫游流量天数\\N置为空值\n",
    "df.loc[df['idcard_birth_area'] == r'\\N', 'idcard_birth_area'] = None  #身份证出生地\\N置为空值\n",
    "df['dou'].fillna(0, inplace=True)  #使用流量为空值的默认为0\n",
    "df['is_comm_user'].fillna(0, inplace=True)  #是否为移动用户的空值默认为0\n",
    "df['is_init_comm_user'].fillna(0, inplace=True)  #是否主动通信用户的空值默认为0\n",
    "df['cust_star'].fillna(0, inplace=True)  #客户星级的空值默认为0\n",
    "df['vip_cust_id'].fillna(0, inplace=True)  #重要客户标识的空值默认为0\n",
    "df['dome_roam_flux_days'].fillna(int(df[df['dome_roam_flux_days'].notnull()]['dome_roam_flux_days'].astype(int).mean()),\n",
    "                                 inplace=True)  #省际漫游流量天数填充为平均值\n",
    "df['inter_roam_flux_days'].fillna(\n",
    "    int(df[df['inter_roam_flux_days'].notnull()]['inter_roam_flux_days'].astype(int).mean()),\n",
    "    inplace=True)  #国际漫游流量天数填充为平均值\n",
    "df.drop(df[df['mage_status'] == r\"\\N\"].index, inplace=True)  # 删除mage_status等于\\N的35行\n",
    "df.drop(df[df['educat_degree_code'] == r\"\\N\"].index, inplace=True)  # 删除educat_degree_code等于\\N的35行\n",
    "df.drop(df[df['ocpn_code'] == r\"\\N\"].index, inplace=True)  # 删除ocpn_code等于\\N的35行\n",
    "df.drop(df[df['idcard_birth_area'].isnull()].index, inplace=True)  #删除身份证出生地为空值的496个数据"
   ],
   "metadata": {
    "collapsed": false
   }
  },
  {
   "cell_type": "code",
   "execution_count": 290,
   "outputs": [],
   "source": [
    "# 时间处理\n",
    "df1 = pd.to_datetime(df['month'], format=\"%Y%m\")\n",
    "df['year'] = df1.dt.year\n",
    "df['month'] = df1.dt.month\n",
    "df = pd.get_dummies(df, columns=['month'], dtype=int)  # 时间独热编码\n",
    "df = df.astype(int)  #类型转换"
   ],
   "metadata": {
    "collapsed": false
   }
  },
  {
   "cell_type": "code",
   "execution_count": 293,
   "outputs": [],
   "source": [
    "# 训练集&测试集创建\n",
    "x = df.drop('sample_flag', axis=1)  # 特征数据\n",
    "y = df['sample_flag']  # 目标数据\n",
    "# 将数据拆分为训练集和测试集\n",
    "x_train, x_test, y_train, y_test = train_test_split(x, y, test_size=0.2, random_state=42)\n",
    "\n",
    "# 创建LightGBM数据集\n",
    "train_data = lgb.Dataset(x_train, label=y_train)\n",
    "test_data = lgb.Dataset(x_test, label=y_test, reference=train_data)"
   ],
   "metadata": {
    "collapsed": false
   }
  },
  {
   "cell_type": "code",
   "execution_count": 295,
   "outputs": [
    {
     "name": "stderr",
     "output_type": "stream",
     "text": [
      "D:\\pycharm project\\Internet-of-Vehicles-Collision-Recognition\\venv\\lib\\site-packages\\lightgbm\\engine.py:172: UserWarning: Found `num_iterations` in params. Will use it instead of argument\n",
      "  _log_warning(f\"Found `{alias}` in params. Will use it instead of argument\")\n"
     ]
    },
    {
     "name": "stdout",
     "output_type": "stream",
     "text": [
      "[LightGBM] [Info] Number of positive: 26237, number of negative: 134210\n",
      "[LightGBM] [Warning] Auto-choosing row-wise multi-threading, the overhead of testing was 0.007539 seconds.\n",
      "You can set `force_row_wise=true` to remove the overhead.\n",
      "And if memory is not enough, you can set `force_col_wise=true`.\n",
      "[LightGBM] [Info] Total Bins 968\n",
      "[LightGBM] [Info] Number of data points in the train set: 160447, number of used features: 30\n",
      "[LightGBM] [Info] [binary:BoostFromScore]: pavg=0.163524 -> initscore=-1.632235\n",
      "[LightGBM] [Info] Start training from score -1.632235\n",
      "Training until validation scores don't improve for 10 rounds\n",
      "Early stopping, best iteration is:\n",
      "[6]\tvalid_0's binary_logloss: 0.37592\tvalid_0's auc: 0.871235\n",
      "6\n",
      "AUC: 0.8712353690384872\n"
     ]
    }
   ],
   "source": [
    "# 训练模型&评分标准\n",
    "from sklearn.metrics import roc_auc_score\n",
    "\n",
    "# 设置LightGBM参数\n",
    "params = {\n",
    "    'cat_smooth': 8,\n",
    "    'is_unbalance': True,\n",
    "    'max_depth': 9,\n",
    "    'metric': ['binary_logloss', 'auc'],\n",
    "    'min_child_samples': 22,\n",
    "    'num_iterations': 200,\n",
    "    'num_leaves': 100,\n",
    "    'objective': 'binary',\n",
    "    'reg_alpha': 0.01,\n",
    "    'reg_lambda': 8,\n",
    "    'early_stopping_rounds': 10\n",
    "}\n",
    "\n",
    "# 训练模型\n",
    "model = lgb.train(params, train_data, valid_sets=[test_data])\n",
    "\n",
    "print(model.best_iteration)\n",
    "model.save_model('1.pkl')\n",
    "# 预测\n",
    "y_pred = model.predict(x_test, num_iteration=model.best_iteration)\n",
    "\n",
    "# 评估模型性能\n",
    "auc = roc_auc_score(y_test, y_pred)\n",
    "\n",
    "print(f'AUC: {auc}')"
   ],
   "metadata": {
    "collapsed": false
   }
  },
  {
   "cell_type": "code",
   "execution_count": null,
   "outputs": [],
   "source": [],
   "metadata": {
    "collapsed": false
   }
  },
  {
   "cell_type": "code",
   "execution_count": null,
   "outputs": [],
   "source": [],
   "metadata": {
    "collapsed": false
   }
  },
  {
   "cell_type": "code",
   "execution_count": 2,
   "outputs": [
    {
     "name": "stderr",
     "output_type": "stream",
     "text": [
      "C:\\Users\\Polo\\AppData\\Local\\Temp\\ipykernel_18056\\70266967.py:2: DtypeWarning: Columns (3,4,5,15) have mixed types. Specify dtype option on import or set low_memory=False.\n",
      "  re=pd.read_csv(r'D:\\huancun\\WeChat Files\\wxid_7fjwgckpy7m522\\FileStorage\\File\\2023-09\\dw_casl_user_sample_feature_all.csv')\n"
     ]
    }
   ],
   "source": [
    "import pandas as pd\n",
    "\n",
    "re = pd.read_csv(\n",
    "    r'D:\\huancun\\WeChat Files\\wxid_7fjwgckpy7m522\\FileStorage\\File\\2023-09\\dw_casl_user_sample_feature_all.csv')"
   ],
   "metadata": {
    "collapsed": false
   }
  },
  {
   "cell_type": "code",
   "execution_count": 3,
   "outputs": [
    {
     "data": {
      "text/plain": "   sample_flag                                id  prov_id mage_status  \\\n0            1  d22dc3132106e63d0f529c19694dcf9e    11700           1   \n1            1  d22dc3132106e63d0f529c19694dcf9e    11700           1   \n2            0  47721b2ed7cdb28c65cc272503902140    11700           0   \n3            0  86f67ae187fef1822e4003a169ddfe1b    10900           3   \n4            0  61e39e03d105ef3b86510f43b4754562    12300           3   \n5            0  88e00c3063043cc3d3f697e92ea9a90d    12300           3   \n6            0  6cb989a68b90baec2710b4250b23e9af    11400           3   \n7            0  90fc4da11c8a22dc8f0458d14856362a    11000           2   \n8            0  3fbfa5da3cae1296168f8188c5c9d43a    10300           3   \n9            0  b4cbc68ac44fba9bdc608160e9763387    12000           3   \n\n  ocpn_code educat_degree_code  age_level  sex  cm_cons_tot_amt  innet_dura  \\\n0        01                 01          5    1                8          44   \n1        01                 01          5    1                8          46   \n2        99                 99          3    2               31           4   \n3        99                 01          9    1                5          56   \n4        99                 01          5    1               11          19   \n5        99                 01          8    2                4           3   \n6        99                 01          6    2                6         116   \n7        03                 01          7    1               12          54   \n8        99                 01          6    2                6          27   \n9        99                 01         10    1                9          12   \n\n   ...  avg_6m_111003_click_cnt avg_6m_111003_app_cnt avg_6m_111003_flux_all  \\\n0  ...                    55.00                  0.17                6846.49   \n1  ...                    20.83                  0.67                2002.62   \n2  ...                     0.00                  0.00                   0.00   \n3  ...                     0.50                  0.33                  56.85   \n4  ...                     0.33                  0.17                   0.12   \n5  ...                     0.00                  0.00                   0.00   \n6  ...                   554.50                  1.67               13807.68   \n7  ...                     0.00                  0.00                   0.00   \n8  ...                    28.67                  1.33                 780.10   \n9  ...                     0.17                  0.17                   0.12   \n\n  avg_6m_112002_click_cnt  avg_6m_112002_app_cnt avg_6m_112002_flux_all  \\\n0                   10.83                   0.50                 618.07   \n1                    4.00                   0.50                  95.66   \n2                    0.00                   0.00                   0.00   \n3                  169.33                   0.83                8345.32   \n4                    1.50                   0.50                   4.31   \n5                    0.00                   0.00                   0.00   \n6                  193.83                   2.50                4992.07   \n7                    6.67                   0.83                 146.70   \n8                   97.33                   1.50                4058.60   \n9                   27.00                   7.33                   9.73   \n\n   avg_6m_107004_click_cnt  avg_6m_107004_app_cnt  avg_6m_107004_flux_all  \\\n0                     0.00                   0.00                    0.00   \n1                     0.00                   0.00                    0.00   \n2                     0.00                   0.00                    0.00   \n3                     7.83                   1.00                   59.54   \n4                     0.00                   0.00                    0.00   \n5                     0.00                   0.00                    0.00   \n6                     0.17                   0.17                  120.38   \n7                     0.00                   0.00                    0.00   \n8                     0.00                   0.00                    0.00   \n9                     0.00                   0.00                    0.00   \n\n    month  \n0  202208  \n1  202210  \n2  202209  \n3  202210  \n4  202208  \n5  202209  \n6  202210  \n7  202208  \n8  202303  \n9  202211  \n\n[10 rows x 69 columns]",
      "text/html": "<div>\n<style scoped>\n    .dataframe tbody tr th:only-of-type {\n        vertical-align: middle;\n    }\n\n    .dataframe tbody tr th {\n        vertical-align: top;\n    }\n\n    .dataframe thead th {\n        text-align: right;\n    }\n</style>\n<table border=\"1\" class=\"dataframe\">\n  <thead>\n    <tr style=\"text-align: right;\">\n      <th></th>\n      <th>sample_flag</th>\n      <th>id</th>\n      <th>prov_id</th>\n      <th>mage_status</th>\n      <th>ocpn_code</th>\n      <th>educat_degree_code</th>\n      <th>age_level</th>\n      <th>sex</th>\n      <th>cm_cons_tot_amt</th>\n      <th>innet_dura</th>\n      <th>...</th>\n      <th>avg_6m_111003_click_cnt</th>\n      <th>avg_6m_111003_app_cnt</th>\n      <th>avg_6m_111003_flux_all</th>\n      <th>avg_6m_112002_click_cnt</th>\n      <th>avg_6m_112002_app_cnt</th>\n      <th>avg_6m_112002_flux_all</th>\n      <th>avg_6m_107004_click_cnt</th>\n      <th>avg_6m_107004_app_cnt</th>\n      <th>avg_6m_107004_flux_all</th>\n      <th>month</th>\n    </tr>\n  </thead>\n  <tbody>\n    <tr>\n      <th>0</th>\n      <td>1</td>\n      <td>d22dc3132106e63d0f529c19694dcf9e</td>\n      <td>11700</td>\n      <td>1</td>\n      <td>01</td>\n      <td>01</td>\n      <td>5</td>\n      <td>1</td>\n      <td>8</td>\n      <td>44</td>\n      <td>...</td>\n      <td>55.00</td>\n      <td>0.17</td>\n      <td>6846.49</td>\n      <td>10.83</td>\n      <td>0.50</td>\n      <td>618.07</td>\n      <td>0.00</td>\n      <td>0.00</td>\n      <td>0.00</td>\n      <td>202208</td>\n    </tr>\n    <tr>\n      <th>1</th>\n      <td>1</td>\n      <td>d22dc3132106e63d0f529c19694dcf9e</td>\n      <td>11700</td>\n      <td>1</td>\n      <td>01</td>\n      <td>01</td>\n      <td>5</td>\n      <td>1</td>\n      <td>8</td>\n      <td>46</td>\n      <td>...</td>\n      <td>20.83</td>\n      <td>0.67</td>\n      <td>2002.62</td>\n      <td>4.00</td>\n      <td>0.50</td>\n      <td>95.66</td>\n      <td>0.00</td>\n      <td>0.00</td>\n      <td>0.00</td>\n      <td>202210</td>\n    </tr>\n    <tr>\n      <th>2</th>\n      <td>0</td>\n      <td>47721b2ed7cdb28c65cc272503902140</td>\n      <td>11700</td>\n      <td>0</td>\n      <td>99</td>\n      <td>99</td>\n      <td>3</td>\n      <td>2</td>\n      <td>31</td>\n      <td>4</td>\n      <td>...</td>\n      <td>0.00</td>\n      <td>0.00</td>\n      <td>0.00</td>\n      <td>0.00</td>\n      <td>0.00</td>\n      <td>0.00</td>\n      <td>0.00</td>\n      <td>0.00</td>\n      <td>0.00</td>\n      <td>202209</td>\n    </tr>\n    <tr>\n      <th>3</th>\n      <td>0</td>\n      <td>86f67ae187fef1822e4003a169ddfe1b</td>\n      <td>10900</td>\n      <td>3</td>\n      <td>99</td>\n      <td>01</td>\n      <td>9</td>\n      <td>1</td>\n      <td>5</td>\n      <td>56</td>\n      <td>...</td>\n      <td>0.50</td>\n      <td>0.33</td>\n      <td>56.85</td>\n      <td>169.33</td>\n      <td>0.83</td>\n      <td>8345.32</td>\n      <td>7.83</td>\n      <td>1.00</td>\n      <td>59.54</td>\n      <td>202210</td>\n    </tr>\n    <tr>\n      <th>4</th>\n      <td>0</td>\n      <td>61e39e03d105ef3b86510f43b4754562</td>\n      <td>12300</td>\n      <td>3</td>\n      <td>99</td>\n      <td>01</td>\n      <td>5</td>\n      <td>1</td>\n      <td>11</td>\n      <td>19</td>\n      <td>...</td>\n      <td>0.33</td>\n      <td>0.17</td>\n      <td>0.12</td>\n      <td>1.50</td>\n      <td>0.50</td>\n      <td>4.31</td>\n      <td>0.00</td>\n      <td>0.00</td>\n      <td>0.00</td>\n      <td>202208</td>\n    </tr>\n    <tr>\n      <th>5</th>\n      <td>0</td>\n      <td>88e00c3063043cc3d3f697e92ea9a90d</td>\n      <td>12300</td>\n      <td>3</td>\n      <td>99</td>\n      <td>01</td>\n      <td>8</td>\n      <td>2</td>\n      <td>4</td>\n      <td>3</td>\n      <td>...</td>\n      <td>0.00</td>\n      <td>0.00</td>\n      <td>0.00</td>\n      <td>0.00</td>\n      <td>0.00</td>\n      <td>0.00</td>\n      <td>0.00</td>\n      <td>0.00</td>\n      <td>0.00</td>\n      <td>202209</td>\n    </tr>\n    <tr>\n      <th>6</th>\n      <td>0</td>\n      <td>6cb989a68b90baec2710b4250b23e9af</td>\n      <td>11400</td>\n      <td>3</td>\n      <td>99</td>\n      <td>01</td>\n      <td>6</td>\n      <td>2</td>\n      <td>6</td>\n      <td>116</td>\n      <td>...</td>\n      <td>554.50</td>\n      <td>1.67</td>\n      <td>13807.68</td>\n      <td>193.83</td>\n      <td>2.50</td>\n      <td>4992.07</td>\n      <td>0.17</td>\n      <td>0.17</td>\n      <td>120.38</td>\n      <td>202210</td>\n    </tr>\n    <tr>\n      <th>7</th>\n      <td>0</td>\n      <td>90fc4da11c8a22dc8f0458d14856362a</td>\n      <td>11000</td>\n      <td>2</td>\n      <td>03</td>\n      <td>01</td>\n      <td>7</td>\n      <td>1</td>\n      <td>12</td>\n      <td>54</td>\n      <td>...</td>\n      <td>0.00</td>\n      <td>0.00</td>\n      <td>0.00</td>\n      <td>6.67</td>\n      <td>0.83</td>\n      <td>146.70</td>\n      <td>0.00</td>\n      <td>0.00</td>\n      <td>0.00</td>\n      <td>202208</td>\n    </tr>\n    <tr>\n      <th>8</th>\n      <td>0</td>\n      <td>3fbfa5da3cae1296168f8188c5c9d43a</td>\n      <td>10300</td>\n      <td>3</td>\n      <td>99</td>\n      <td>01</td>\n      <td>6</td>\n      <td>2</td>\n      <td>6</td>\n      <td>27</td>\n      <td>...</td>\n      <td>28.67</td>\n      <td>1.33</td>\n      <td>780.10</td>\n      <td>97.33</td>\n      <td>1.50</td>\n      <td>4058.60</td>\n      <td>0.00</td>\n      <td>0.00</td>\n      <td>0.00</td>\n      <td>202303</td>\n    </tr>\n    <tr>\n      <th>9</th>\n      <td>0</td>\n      <td>b4cbc68ac44fba9bdc608160e9763387</td>\n      <td>12000</td>\n      <td>3</td>\n      <td>99</td>\n      <td>01</td>\n      <td>10</td>\n      <td>1</td>\n      <td>9</td>\n      <td>12</td>\n      <td>...</td>\n      <td>0.17</td>\n      <td>0.17</td>\n      <td>0.12</td>\n      <td>27.00</td>\n      <td>7.33</td>\n      <td>9.73</td>\n      <td>0.00</td>\n      <td>0.00</td>\n      <td>0.00</td>\n      <td>202211</td>\n    </tr>\n  </tbody>\n</table>\n<p>10 rows × 69 columns</p>\n</div>"
     },
     "execution_count": 3,
     "metadata": {},
     "output_type": "execute_result"
    }
   ],
   "source": [
    "re.head(10)"
   ],
   "metadata": {
    "collapsed": false
   }
  },
  {
   "cell_type": "code",
   "execution_count": 17,
   "outputs": [
    {
     "name": "stderr",
     "output_type": "stream",
     "text": [
      "C:\\Users\\Polo\\AppData\\Local\\Temp\\ipykernel_25196\\532435699.py:38: DtypeWarning: Columns (3,4,5,15) have mixed types. Specify dtype option on import or set low_memory=False.\n",
      "  df = pd.read_csv(\n"
     ]
    },
    {
     "data": {
      "text/plain": "      prov_id  mage_status  ocpn_code  educat_degree_code  age_level  sex  \\\n0       11700            1          1                   1          5    1   \n1       11700            1          1                   1          5    1   \n2       11700            0         99                  99          3    2   \n3       10900            3         99                   1          9    1   \n4       12300            3         99                   1          5    1   \n...       ...          ...        ...                 ...        ...  ...   \n996     11000            2          1                   1          6    2   \n997     10200            3         99                   3          7    1   \n998     10100            3         99                   1         13    2   \n999     12300            3         99                   1         10    2   \n1000    12300            2         99                   1          6    1   \n\n      cm_cons_tot_amt  innet_dura     dou  is_comm_user  ...  month_2  \\\n0                   8          44   41002             1  ...        0   \n1                   8          46   17558             1  ...        0   \n2                  31           4       0             0  ...        0   \n3                   5          56   20176             1  ...        0   \n4                  11          19     481             0  ...        0   \n...               ...         ...     ...           ...  ...      ...   \n996                 6          76   11171             1  ...        0   \n997                14          62  118307             1  ...        0   \n998                 3         123       0             1  ...        0   \n999                 5         169    2525             1  ...        0   \n1000               11         116   29220             1  ...        0   \n\n      month_3  month_4  month_7  month_8  month_9  month_10  month_11  \\\n0           0        0        0        1        0         0         0   \n1           0        0        0        0        0         1         0   \n2           0        0        0        0        1         0         0   \n3           0        0        0        0        0         1         0   \n4           0        0        0        1        0         0         0   \n...       ...      ...      ...      ...      ...       ...       ...   \n996         0        0        0        0        0         0         0   \n997         0        0        0        0        0         0         1   \n998         0        0        0        0        0         1         0   \n999         0        0        0        1        0         0         0   \n1000        1        0        0        0        0         0         0   \n\n      month_12  sample_flag  \n0            0     0.710151  \n1            0     0.937227  \n2            0     0.000315  \n3            0     0.002864  \n4            0     0.001740  \n...        ...          ...  \n996          1     0.948702  \n997          0     0.687465  \n998          0     0.014946  \n999          0     0.008670  \n1000         0     0.545710  \n\n[1000 rows x 78 columns]",
      "text/html": "<div>\n<style scoped>\n    .dataframe tbody tr th:only-of-type {\n        vertical-align: middle;\n    }\n\n    .dataframe tbody tr th {\n        vertical-align: top;\n    }\n\n    .dataframe thead th {\n        text-align: right;\n    }\n</style>\n<table border=\"1\" class=\"dataframe\">\n  <thead>\n    <tr style=\"text-align: right;\">\n      <th></th>\n      <th>prov_id</th>\n      <th>mage_status</th>\n      <th>ocpn_code</th>\n      <th>educat_degree_code</th>\n      <th>age_level</th>\n      <th>sex</th>\n      <th>cm_cons_tot_amt</th>\n      <th>innet_dura</th>\n      <th>dou</th>\n      <th>is_comm_user</th>\n      <th>...</th>\n      <th>month_2</th>\n      <th>month_3</th>\n      <th>month_4</th>\n      <th>month_7</th>\n      <th>month_8</th>\n      <th>month_9</th>\n      <th>month_10</th>\n      <th>month_11</th>\n      <th>month_12</th>\n      <th>sample_flag</th>\n    </tr>\n  </thead>\n  <tbody>\n    <tr>\n      <th>0</th>\n      <td>11700</td>\n      <td>1</td>\n      <td>1</td>\n      <td>1</td>\n      <td>5</td>\n      <td>1</td>\n      <td>8</td>\n      <td>44</td>\n      <td>41002</td>\n      <td>1</td>\n      <td>...</td>\n      <td>0</td>\n      <td>0</td>\n      <td>0</td>\n      <td>0</td>\n      <td>1</td>\n      <td>0</td>\n      <td>0</td>\n      <td>0</td>\n      <td>0</td>\n      <td>0.710151</td>\n    </tr>\n    <tr>\n      <th>1</th>\n      <td>11700</td>\n      <td>1</td>\n      <td>1</td>\n      <td>1</td>\n      <td>5</td>\n      <td>1</td>\n      <td>8</td>\n      <td>46</td>\n      <td>17558</td>\n      <td>1</td>\n      <td>...</td>\n      <td>0</td>\n      <td>0</td>\n      <td>0</td>\n      <td>0</td>\n      <td>0</td>\n      <td>0</td>\n      <td>1</td>\n      <td>0</td>\n      <td>0</td>\n      <td>0.937227</td>\n    </tr>\n    <tr>\n      <th>2</th>\n      <td>11700</td>\n      <td>0</td>\n      <td>99</td>\n      <td>99</td>\n      <td>3</td>\n      <td>2</td>\n      <td>31</td>\n      <td>4</td>\n      <td>0</td>\n      <td>0</td>\n      <td>...</td>\n      <td>0</td>\n      <td>0</td>\n      <td>0</td>\n      <td>0</td>\n      <td>0</td>\n      <td>1</td>\n      <td>0</td>\n      <td>0</td>\n      <td>0</td>\n      <td>0.000315</td>\n    </tr>\n    <tr>\n      <th>3</th>\n      <td>10900</td>\n      <td>3</td>\n      <td>99</td>\n      <td>1</td>\n      <td>9</td>\n      <td>1</td>\n      <td>5</td>\n      <td>56</td>\n      <td>20176</td>\n      <td>1</td>\n      <td>...</td>\n      <td>0</td>\n      <td>0</td>\n      <td>0</td>\n      <td>0</td>\n      <td>0</td>\n      <td>0</td>\n      <td>1</td>\n      <td>0</td>\n      <td>0</td>\n      <td>0.002864</td>\n    </tr>\n    <tr>\n      <th>4</th>\n      <td>12300</td>\n      <td>3</td>\n      <td>99</td>\n      <td>1</td>\n      <td>5</td>\n      <td>1</td>\n      <td>11</td>\n      <td>19</td>\n      <td>481</td>\n      <td>0</td>\n      <td>...</td>\n      <td>0</td>\n      <td>0</td>\n      <td>0</td>\n      <td>0</td>\n      <td>1</td>\n      <td>0</td>\n      <td>0</td>\n      <td>0</td>\n      <td>0</td>\n      <td>0.001740</td>\n    </tr>\n    <tr>\n      <th>...</th>\n      <td>...</td>\n      <td>...</td>\n      <td>...</td>\n      <td>...</td>\n      <td>...</td>\n      <td>...</td>\n      <td>...</td>\n      <td>...</td>\n      <td>...</td>\n      <td>...</td>\n      <td>...</td>\n      <td>...</td>\n      <td>...</td>\n      <td>...</td>\n      <td>...</td>\n      <td>...</td>\n      <td>...</td>\n      <td>...</td>\n      <td>...</td>\n      <td>...</td>\n      <td>...</td>\n    </tr>\n    <tr>\n      <th>996</th>\n      <td>11000</td>\n      <td>2</td>\n      <td>1</td>\n      <td>1</td>\n      <td>6</td>\n      <td>2</td>\n      <td>6</td>\n      <td>76</td>\n      <td>11171</td>\n      <td>1</td>\n      <td>...</td>\n      <td>0</td>\n      <td>0</td>\n      <td>0</td>\n      <td>0</td>\n      <td>0</td>\n      <td>0</td>\n      <td>0</td>\n      <td>0</td>\n      <td>1</td>\n      <td>0.948702</td>\n    </tr>\n    <tr>\n      <th>997</th>\n      <td>10200</td>\n      <td>3</td>\n      <td>99</td>\n      <td>3</td>\n      <td>7</td>\n      <td>1</td>\n      <td>14</td>\n      <td>62</td>\n      <td>118307</td>\n      <td>1</td>\n      <td>...</td>\n      <td>0</td>\n      <td>0</td>\n      <td>0</td>\n      <td>0</td>\n      <td>0</td>\n      <td>0</td>\n      <td>0</td>\n      <td>1</td>\n      <td>0</td>\n      <td>0.687465</td>\n    </tr>\n    <tr>\n      <th>998</th>\n      <td>10100</td>\n      <td>3</td>\n      <td>99</td>\n      <td>1</td>\n      <td>13</td>\n      <td>2</td>\n      <td>3</td>\n      <td>123</td>\n      <td>0</td>\n      <td>1</td>\n      <td>...</td>\n      <td>0</td>\n      <td>0</td>\n      <td>0</td>\n      <td>0</td>\n      <td>0</td>\n      <td>0</td>\n      <td>1</td>\n      <td>0</td>\n      <td>0</td>\n      <td>0.014946</td>\n    </tr>\n    <tr>\n      <th>999</th>\n      <td>12300</td>\n      <td>3</td>\n      <td>99</td>\n      <td>1</td>\n      <td>10</td>\n      <td>2</td>\n      <td>5</td>\n      <td>169</td>\n      <td>2525</td>\n      <td>1</td>\n      <td>...</td>\n      <td>0</td>\n      <td>0</td>\n      <td>0</td>\n      <td>0</td>\n      <td>1</td>\n      <td>0</td>\n      <td>0</td>\n      <td>0</td>\n      <td>0</td>\n      <td>0.008670</td>\n    </tr>\n    <tr>\n      <th>1000</th>\n      <td>12300</td>\n      <td>2</td>\n      <td>99</td>\n      <td>1</td>\n      <td>6</td>\n      <td>1</td>\n      <td>11</td>\n      <td>116</td>\n      <td>29220</td>\n      <td>1</td>\n      <td>...</td>\n      <td>0</td>\n      <td>1</td>\n      <td>0</td>\n      <td>0</td>\n      <td>0</td>\n      <td>0</td>\n      <td>0</td>\n      <td>0</td>\n      <td>0</td>\n      <td>0.545710</td>\n    </tr>\n  </tbody>\n</table>\n<p>1000 rows × 78 columns</p>\n</div>"
     },
     "execution_count": 17,
     "metadata": {},
     "output_type": "execute_result"
    }
   ],
   "source": [
    "import lightgbm as lgb\n",
    "import pandas as pd\n",
    "\n",
    "\n",
    "def data_deal(df):\n",
    "    # 空值处理\n",
    "    df = df.drop(['id'], axis=1)  # 删除加密的特征\n",
    "    df.loc[df['is_comm_user'] == r'\\N', 'is_comm_user'] = None  # 是否为移动用户\\N置为空值\n",
    "    df.loc[df['is_init_comm_user'] == r'\\N', 'is_init_comm_user'] = None  # 是否主动通信用户\\N置为空值\n",
    "    df.loc[df['cust_star'] == r'\\N', 'cust_star'] = None  # 客户星级\\N置为空值\n",
    "    df.loc[df['dome_roam_flux_days'] == r'\\N', 'dome_roam_flux_days'] = None  # 省际漫游流量天数\\N置为空值\n",
    "    df.loc[df['inter_roam_flux_days'] == r'\\N', 'inter_roam_flux_days'] = None  # 国际漫游流量天数\\N置为空值\n",
    "    df.loc[df['idcard_birth_area'] == r'\\N', 'idcard_birth_area'] = None  # 身份证出生地\\N置为空值\n",
    "    df['dou'].fillna(0, inplace=True)  # 使用流量为空值的默认为0\n",
    "    df['is_comm_user'].fillna(0, inplace=True)  # 是否为移动用户的空值默认为0\n",
    "    df['is_init_comm_user'].fillna(0, inplace=True)  # 是否主动通信用户的空值默认为0\n",
    "    df['cust_star'].fillna(0, inplace=True)  # 客户星级的空值默认为0\n",
    "    df['vip_cust_id'].fillna(0, inplace=True)  # 重要客户标识的空值默认为0\n",
    "    df['dome_roam_flux_days'].fillna(\n",
    "        int(df[df['dome_roam_flux_days'].notnull()]['dome_roam_flux_days'].astype(int).mean()),\n",
    "        inplace=True)  # 省际漫游流量天数填充为平均值\n",
    "    df['inter_roam_flux_days'].fillna(\n",
    "        int(df[df['inter_roam_flux_days'].notnull()]['inter_roam_flux_days'].astype(int).mean()),\n",
    "        inplace=True)  # 国际漫游流量天数填充为平均值\n",
    "    df.drop(df[df['mage_status'] == r\"\\N\"].index, inplace=True)  # 删除mage_status等于\\N的35行\n",
    "    df.drop(df[df['educat_degree_code'] == r\"\\N\"].index, inplace=True)  # 删除educat_degree_code等于\\N的35行\n",
    "    df.drop(df[df['ocpn_code'] == r\"\\N\"].index, inplace=True)  # 删除ocpn_code等于\\N的35行\n",
    "    df.drop(df[df['idcard_birth_area'].isnull()].index, inplace=True)  # 删除身份证出生地为空值的496个数据\n",
    "\n",
    "    # 时间处理\n",
    "    df1 = pd.to_datetime(df['month'], format=\"%Y%m\")\n",
    "    df['year'] = df1.dt.year\n",
    "    df['month'] = df1.dt.month\n",
    "    df = pd.get_dummies(df, columns=['month'], dtype=int)  # 时间独热编码\n",
    "    df = df.astype(int)  # 类型转换\n",
    "    return df\n",
    "\n",
    "\n",
    "df = pd.read_csv(\n",
    "    r'D:\\huancun\\WeChat Files\\wxid_7fjwgckpy7m522\\FileStorage\\File\\2023-09\\dw_casl_user_sample_feature_all.csv')\n",
    "df = data_deal(df)\n",
    "\n",
    "model = lgb.Booster(model_file='../SL.pkl')\n",
    "# 预测\n",
    "y_pred = model.predict(df, num_iteration=model.best_iteration)\n",
    "df['sample_flag'] = y_pred\n",
    "df.to_csv('dw_casl_user_sample_feature_result.csv', index=False)"
   ],
   "metadata": {
    "collapsed": false
   }
  },
  {
   "cell_type": "code",
   "execution_count": 15,
   "outputs": [
    {
     "data": {
      "text/plain": "array([7.10150517e-01, 9.37227031e-01, 3.14516116e-04, 2.86441238e-03,\n       1.73981519e-03, 2.67836017e-03, 5.74432033e-01, 5.63214697e-02,\n       2.77788734e-01, 4.30331922e-03, 4.28938087e-03, 6.48753090e-02,\n       4.00770233e-01, 3.66474886e-03, 9.37925829e-04, 3.01409624e-01,\n       1.01435402e-02, 2.86733125e-04, 1.34629270e-02, 7.61042456e-03,\n       1.44487629e-02, 9.49810906e-01, 7.38858577e-01, 3.72054287e-03,\n       1.47035315e-01, 1.69783405e-03, 7.25256026e-02, 2.25721478e-01,\n       5.81509027e-02, 2.88710815e-03, 6.67480071e-01, 5.38428100e-01,\n       2.53200580e-03, 1.10294921e-02, 9.40338527e-02, 7.78955255e-02,\n       1.42179282e-02, 1.08526092e-03, 8.38879798e-02, 3.71840503e-02,\n       1.81189688e-02, 4.95787477e-02, 6.37479405e-03, 2.12678202e-02,\n       2.86886488e-02, 2.57339278e-02, 1.02972139e-01, 1.60829284e-02,\n       1.96961403e-02, 2.32439015e-01, 4.23104459e-02, 7.61396519e-01,\n       3.40358868e-03, 2.54598337e-02, 1.60557015e-02, 6.27230841e-01,\n       5.43054544e-01, 5.35647326e-01, 6.53213539e-02, 1.13951130e-02,\n       2.26802456e-03, 1.53834409e-02, 6.29455196e-01, 9.17951389e-01,\n       7.33348003e-01, 1.03382132e-01, 2.53490402e-03, 6.63662212e-04,\n       9.84965429e-01, 6.30453682e-01, 1.81170874e-01, 7.37945938e-02,\n       1.49938925e-03, 4.21935889e-02, 7.63442887e-02, 2.76844249e-02,\n       2.63851585e-02, 8.71110952e-01, 9.19373612e-01, 1.28204617e-03,\n       5.59838202e-03, 4.91265295e-03, 1.13618918e-03, 1.49024173e-02,\n       1.64604144e-01, 5.08952501e-01, 5.65230083e-01, 2.02360540e-02,\n       8.30817457e-02, 1.05220135e-02, 6.84218456e-01, 2.45835132e-02,\n       1.89190423e-01, 4.16740293e-04, 4.70686593e-02, 2.52404374e-02,\n       1.03905297e-02, 3.08959026e-01, 8.94189340e-01, 9.75236265e-01,\n       9.62449053e-01, 5.14565221e-03, 1.05633693e-02, 2.75933950e-02,\n       5.33182602e-02, 3.46586761e-04, 1.71106644e-02, 3.33227585e-01,\n       7.53100102e-01, 1.18016339e-02, 6.56147210e-02, 4.02858591e-04,\n       4.96150208e-01, 6.97585924e-01, 7.42678918e-02, 5.05848504e-03,\n       6.28579238e-03, 6.32617348e-03, 7.02064391e-01, 9.85063641e-01,\n       4.83992871e-02, 1.50792795e-03, 6.71361856e-03, 1.15493469e-02,\n       4.59569597e-04, 8.17813337e-02, 1.70793112e-01, 1.30899069e-01,\n       1.51470274e-04, 1.80337563e-02, 2.09301436e-02, 8.78778454e-01,\n       1.33825402e-03, 3.54748274e-02, 2.86914355e-01, 5.63629385e-03,\n       8.98984048e-01, 9.24352901e-01, 2.25751205e-03, 9.70620429e-02,\n       1.01625298e-02, 3.69689256e-01, 1.77167130e-02, 2.13114781e-02,\n       6.63706337e-03, 6.29750841e-02, 3.14673647e-02, 5.35092967e-01,\n       5.30145922e-01, 8.99557020e-01, 9.21157679e-01, 6.38830504e-04,\n       9.87256276e-01, 9.29044042e-01, 9.49415529e-01, 9.07234795e-01,\n       1.90321088e-02, 1.19507754e-03, 1.45831517e-01, 7.11453663e-04,\n       3.05260728e-02, 1.77337965e-03, 5.71355468e-02, 2.22225040e-02,\n       1.01353862e-02, 9.54204800e-02, 1.93642005e-02, 8.85297124e-01,\n       9.60543350e-01, 6.69823587e-02, 1.11608560e-03, 5.20415447e-02,\n       9.78464715e-01, 9.56718686e-01, 8.62856415e-03, 2.16818876e-04,\n       1.54927390e-03, 3.40665324e-04, 5.76600375e-02, 6.01942228e-01,\n       1.19796810e-01, 4.80739436e-03, 9.90076665e-01, 1.17017842e-02,\n       1.69021304e-01, 1.63236934e-01, 3.57244897e-02, 9.49332585e-03,\n       1.73101319e-03, 5.61312676e-02, 9.68936272e-01, 1.41152050e-01,\n       1.32900513e-02, 1.54597619e-02, 8.29015395e-03, 2.63201968e-02,\n       3.63671120e-02, 9.34421294e-02, 1.97789790e-01, 3.82360618e-01,\n       5.57918132e-03, 4.09461559e-02, 1.39512479e-01, 5.19113435e-02,\n       1.78939033e-03, 6.82350109e-03, 9.65063976e-01, 5.66328207e-01,\n       3.80991722e-02, 6.79810890e-02, 6.84005775e-02, 8.97189969e-01,\n       3.93394733e-04, 9.66281407e-03, 6.23254954e-02, 2.56809536e-01,\n       6.87458146e-04, 1.86266483e-01, 2.25919199e-03, 2.31278705e-02,\n       8.06932560e-02, 7.04174082e-02, 1.99685355e-02, 1.30546032e-03,\n       7.75857425e-04, 9.28519134e-02, 5.76317648e-03, 3.34700622e-02,\n       1.22556705e-02, 5.00376518e-02, 8.11823217e-04, 2.64644306e-01,\n       5.18540374e-04, 2.71218881e-02, 1.94417065e-02, 1.94576308e-02,\n       2.41023180e-03, 3.16166467e-03, 7.58281199e-02, 9.52734681e-01,\n       8.57583797e-01, 4.97671107e-03, 8.86050965e-01, 6.28476771e-03,\n       1.39877609e-03, 7.52783437e-03, 1.12021633e-01, 3.63083286e-02,\n       7.96254297e-04, 1.72860407e-01, 1.65381695e-01, 1.94350242e-02,\n       5.63206010e-03, 8.14645038e-02, 4.10643517e-02, 1.03401415e-01,\n       7.15706684e-03, 3.41966345e-01, 2.37867676e-01, 1.05375120e-01,\n       5.43247565e-02, 2.19409686e-01, 2.28513794e-02, 2.25175530e-01,\n       3.65936625e-03, 9.84704207e-01, 9.89666076e-01, 2.41703505e-01,\n       1.64208283e-01, 2.38065854e-02, 8.47403228e-02, 2.05419403e-02,\n       3.16721442e-02, 3.08801603e-03, 3.46512737e-03, 1.73821977e-02,\n       4.94927098e-03, 1.75053205e-03, 4.29294153e-02, 1.05745531e-02,\n       9.94803682e-01, 6.75787400e-01, 9.56183651e-01, 5.76203017e-01,\n       1.14296373e-02, 3.89696974e-03, 2.32808040e-01, 3.06100007e-02,\n       2.06495672e-02, 1.11569358e-02, 7.21219217e-01, 8.11409645e-02,\n       5.02653847e-02, 4.49875448e-01, 6.02067680e-01, 7.90366952e-04,\n       3.99228197e-02, 8.11400344e-02, 4.82541353e-02, 3.69095660e-02,\n       8.29058123e-02, 6.42685425e-01, 2.41795374e-02, 9.03144382e-01,\n       4.76810670e-02, 7.62428057e-03, 1.19918963e-01, 4.24253591e-04,\n       8.42645956e-01, 1.70132441e-02, 4.70730053e-01, 2.33839757e-03,\n       1.05496664e-03, 4.70685500e-01, 1.14362595e-01, 2.01747056e-02,\n       8.86185374e-01, 1.28604320e-01, 9.03272931e-03, 1.32172873e-01,\n       9.83503413e-01, 1.53312186e-02, 1.30834239e-02, 5.32648683e-04,\n       6.06311743e-03, 1.59417606e-01, 3.16481716e-02, 2.65746721e-01,\n       2.14134838e-03, 1.77051171e-02, 6.75689042e-02, 8.06071851e-01,\n       2.11437440e-02, 7.70562862e-02, 1.08680996e-01, 3.56555776e-03,\n       1.36838186e-02, 8.15977823e-03, 1.66901619e-02, 2.83709067e-01,\n       4.25083207e-01, 3.16019470e-02, 5.58145649e-03, 4.57266612e-02,\n       2.21606350e-04, 4.08492245e-03, 4.90593237e-03, 1.77095197e-01,\n       3.38478954e-02, 2.04958303e-01, 1.17014474e-01, 7.38686996e-01,\n       9.06053126e-01, 1.43655798e-01, 1.30702278e-02, 9.57218510e-03,\n       3.88432642e-02, 1.30464539e-02, 3.23573514e-02, 4.84130820e-02,\n       1.65743348e-01, 9.14883083e-03, 6.01742978e-04, 1.02061321e-01,\n       5.28646727e-02, 1.67236261e-03, 1.81931110e-02, 6.14408114e-01,\n       9.83541382e-03, 2.96243491e-02, 4.91547415e-03, 1.06025896e-02,\n       1.61465387e-03, 5.58609131e-02, 1.02422519e-03, 1.67899889e-02,\n       4.28213153e-03, 1.01993750e-02, 6.46932950e-03, 1.44267487e-03,\n       1.19497962e-03, 2.31185344e-02, 8.64053937e-01, 9.67529110e-02,\n       1.39069907e-01, 9.70980603e-02, 3.79134756e-02, 7.12459082e-03,\n       8.18056309e-02, 4.93694801e-02, 6.72308620e-02, 1.86619871e-02,\n       7.84827647e-02, 3.78957012e-03, 6.65439179e-04, 9.99039970e-02,\n       1.11146562e-01, 6.68119555e-03, 6.68645124e-02, 7.28433309e-02,\n       3.91121853e-03, 1.74849436e-03, 9.27385145e-01, 2.62048180e-01,\n       1.66268311e-01, 5.85999372e-03, 5.25024934e-02, 1.21201366e-01,\n       9.34055981e-03, 4.82023952e-01, 2.26821792e-01, 2.74538372e-03,\n       1.28156994e-01, 1.14070319e-02, 6.79460134e-01, 1.22854964e-01,\n       2.29255683e-02, 6.26440831e-02, 1.91088025e-02, 1.46678766e-02,\n       2.18007507e-02, 1.72476085e-02, 7.01682899e-02, 3.32452126e-02,\n       7.44283652e-03, 3.53844748e-01, 1.32005445e-02, 4.05895328e-03,\n       3.54671521e-02, 3.17208787e-01, 2.51435046e-02, 2.31652208e-04,\n       9.01150855e-02, 4.83368694e-03, 8.66730331e-02, 2.76971683e-03,\n       8.60695167e-01, 2.40664615e-02, 2.42046899e-02, 2.20577716e-03,\n       5.08088847e-04, 4.30036573e-01, 1.23069115e-01, 5.18369149e-03,\n       5.53971180e-01, 4.77589562e-01, 3.52174826e-01, 9.11607240e-01,\n       9.00872695e-01, 4.62847639e-01, 1.05263665e-01, 1.59776742e-02,\n       1.11278121e-02, 5.83819007e-02, 9.03312362e-01, 3.76444123e-03,\n       1.53587246e-01, 2.58217519e-02, 1.87743619e-02, 1.41066318e-03,\n       1.95628726e-01, 6.96031708e-02, 7.68413278e-01, 4.41699584e-01,\n       7.72300679e-04, 1.62858451e-03, 6.90067500e-02, 8.50181882e-03,\n       6.58596030e-02, 5.81392820e-03, 1.12730666e-01, 6.17416317e-02,\n       9.72016698e-01, 9.23748099e-03, 5.18875749e-02, 6.40631985e-04,\n       1.43840618e-02, 4.95644375e-02, 5.61744987e-02, 2.62219018e-02,\n       4.19789207e-04, 1.18777101e-02, 1.30527289e-01, 1.33923982e-03,\n       6.56885586e-01, 1.53650700e-02, 2.17602344e-03, 2.59097386e-03,\n       8.92385512e-04, 6.77228661e-04, 1.26971307e-01, 2.83566672e-03,\n       3.99754041e-03, 4.35967451e-03, 2.91004023e-04, 3.63420813e-04,\n       4.27676959e-03, 3.71995622e-03, 4.60331739e-03, 2.63748970e-02,\n       2.80010895e-01, 1.07854899e-02, 6.82935858e-02, 4.08060958e-02,\n       2.07664634e-02, 6.74096771e-03, 4.91627045e-02, 1.58176012e-03,\n       8.73761572e-03, 9.53840558e-01, 2.54227105e-01, 7.65736066e-02,\n       4.12031619e-04, 7.73977718e-03, 2.38919816e-03, 1.19115825e-02,\n       9.83987246e-02, 1.68166701e-02, 9.36427696e-01, 4.69696611e-04,\n       3.90575440e-02, 5.56090152e-02, 7.87427843e-04, 2.59054129e-04,\n       6.45342115e-03, 1.30369574e-02, 2.49434315e-02, 1.62488598e-01,\n       1.82318837e-02, 1.42890894e-01, 1.98075603e-02, 1.78579363e-01,\n       1.96728667e-03, 4.07654422e-03, 2.90701663e-04, 1.73218976e-02,\n       3.22908872e-02, 5.35485904e-03, 4.81840830e-01, 7.36130025e-03,\n       1.93033828e-03, 1.11619004e-01, 5.19092701e-03, 8.19939464e-01,\n       1.78266093e-02, 4.28243599e-02, 1.98836745e-02, 8.59359304e-04,\n       1.19359999e-02, 3.27435509e-01, 2.33874989e-02, 3.93988100e-03,\n       5.88810904e-02, 1.67808060e-02, 7.21434746e-03, 4.05542576e-02,\n       2.54874289e-02, 4.73644993e-01, 1.85791783e-03, 2.54740235e-01,\n       6.36996742e-02, 4.59226178e-03, 5.61259546e-01, 8.56779358e-01,\n       9.30463269e-01, 7.18175507e-01, 3.51599944e-02, 6.62344717e-03,\n       1.75191344e-03, 1.27711152e-01, 2.80892068e-03, 6.03781778e-02,\n       5.52116128e-04, 9.10966683e-01, 9.00422988e-01, 1.44101021e-01,\n       3.29974933e-02, 6.86974193e-01, 9.39533775e-01, 6.64165131e-02,\n       6.56380710e-03, 4.64285574e-02, 2.93276815e-01, 1.13224312e-02,\n       1.97332698e-02, 7.14077772e-03, 3.13954740e-04, 6.91219692e-03,\n       1.09962477e-02, 1.06411882e-01, 3.32104799e-02, 5.94438237e-01,\n       3.52140149e-02, 1.76015321e-01, 5.11098471e-01, 1.46858623e-01,\n       4.69081297e-01, 4.96067772e-01, 4.21228721e-01, 1.11342960e-02,\n       7.94772979e-01, 5.21465361e-01, 8.09335005e-04, 1.33216527e-03,\n       2.18497278e-02, 6.20498551e-01, 5.34404653e-01, 8.37573425e-01,\n       3.15264912e-01, 1.09738966e-01, 8.02932599e-01, 4.08875486e-01,\n       5.58488392e-01, 8.04378599e-04, 4.27186150e-01, 1.46646732e-02,\n       8.46590234e-01, 9.19004146e-01, 1.42890998e-01, 2.53340767e-02,\n       1.26278211e-01, 2.11656886e-02, 1.39906465e-02, 1.28729879e-01,\n       3.00964737e-01, 6.26444066e-03, 6.51455945e-04, 7.16281148e-03,\n       2.41004334e-02, 2.60888532e-02, 7.50823641e-04, 8.33248950e-03,\n       6.19377320e-01, 8.40209124e-01, 8.13758067e-01, 3.12049902e-02,\n       1.62842499e-03, 4.55083435e-01, 2.19135224e-02, 1.75827164e-02,\n       4.62464941e-02, 7.21450991e-02, 7.51611790e-03, 3.82839152e-01,\n       2.67169704e-02, 2.93221690e-02, 2.30948442e-01, 1.13095801e-01,\n       9.79137684e-01, 9.65818211e-01, 6.13197967e-01, 9.43011098e-01,\n       1.08189136e-01, 1.48099593e-02, 2.66423169e-02, 8.23557585e-02,\n       4.37036995e-02, 4.82140624e-03, 1.09079976e-02, 6.99446123e-01,\n       3.08583218e-02, 2.24046883e-02, 9.02796813e-03, 5.29089722e-02,\n       2.03731383e-02, 7.48589552e-01, 4.91104952e-03, 8.83165400e-04,\n       6.16321869e-02, 3.96341298e-02, 6.66386696e-01, 1.92864491e-04,\n       8.79424499e-01, 2.57731832e-02, 9.58395616e-04, 6.81106014e-03,\n       7.16319286e-02, 4.26665113e-03, 3.42816813e-02, 8.66309586e-01,\n       9.52844202e-01, 7.06438697e-02, 3.84794595e-03, 4.13777122e-03,\n       5.26036177e-01, 8.30486225e-01, 6.43212965e-01, 5.49274678e-02,\n       1.56299142e-02, 8.15122365e-03, 5.91817143e-03, 1.88077424e-02,\n       8.41172633e-01, 1.19672915e-02, 1.97940628e-01, 2.28959491e-04,\n       1.59896855e-02, 9.51709087e-03, 6.75932486e-02, 8.38895057e-03,\n       6.46994130e-01, 9.93698424e-02, 2.24901258e-02, 7.18261186e-01,\n       9.71570409e-01, 8.40045589e-01, 6.81973632e-02, 7.53466959e-03,\n       3.30867630e-01, 4.72381221e-02, 1.98316302e-01, 1.65540132e-03,\n       6.96252755e-03, 1.58287379e-01, 5.62305862e-04, 5.48394341e-02,\n       2.24031643e-01, 2.31380082e-01, 4.61519916e-04, 1.90941041e-03,\n       7.58705912e-01, 1.08218409e-01, 9.83436654e-03, 1.32347234e-02,\n       1.21839307e-03, 1.65961757e-04, 4.18328750e-02, 2.84183857e-01,\n       1.96844414e-03, 2.03441731e-02, 8.21201341e-01, 7.13584482e-01,\n       9.51641949e-01, 7.43595319e-01, 4.77242350e-03, 7.35251871e-02,\n       1.88557791e-02, 1.67979062e-03, 1.91769654e-02, 1.65682857e-02,\n       8.72706054e-01, 9.26599559e-01, 1.91147591e-01, 8.01134752e-04,\n       3.44342222e-01, 4.50667600e-04, 8.01723224e-03, 4.22896384e-01,\n       7.47175091e-02, 3.79840493e-03, 2.14525474e-01, 6.32907835e-01,\n       2.60300455e-02, 3.26419757e-02, 6.39035449e-02, 5.33386881e-02,\n       7.06252002e-02, 5.80044385e-02, 1.91716580e-02, 2.48825422e-02,\n       1.32256950e-01, 2.61303759e-01, 4.84331667e-02, 8.30624007e-01,\n       2.43339332e-02, 2.02227107e-03, 2.68747247e-02, 3.52435705e-02,\n       2.80913146e-03, 2.08538158e-01, 1.54939188e-03, 4.04083795e-03,\n       1.33373787e-03, 9.28252598e-01, 1.31403878e-02, 4.85587363e-01,\n       5.59076070e-03, 1.24245137e-01, 9.05104427e-01, 7.33179652e-02,\n       3.02769697e-02, 4.22854995e-03, 8.25959979e-03, 1.63500457e-02,\n       4.21069143e-02, 2.03682755e-01, 1.12319212e-02, 4.67091063e-01,\n       9.00095749e-01, 9.64917443e-01, 9.09395501e-01, 8.82001945e-04,\n       1.00505427e-02, 4.98891485e-04, 1.91305046e-02, 1.87820424e-01,\n       1.33757675e-03, 1.09473230e-02, 2.99743121e-02, 5.72568097e-02,\n       4.27082839e-02, 1.79331894e-03, 6.77518045e-03, 3.46437325e-01,\n       5.78829419e-01, 4.50039661e-01, 7.83589418e-01, 4.11783493e-01,\n       2.74332761e-02, 5.90481224e-03, 5.89818340e-01, 3.50514000e-01,\n       1.54293663e-02, 3.35442895e-01, 4.13385107e-03, 2.73220924e-03,\n       1.47191347e-02, 2.39298766e-02, 3.68992052e-02, 1.15954008e-03,\n       4.36740298e-01, 2.57676445e-02, 9.45750414e-01, 2.74806467e-02,\n       1.30596095e-02, 3.30781351e-01, 1.53979983e-02, 7.83136445e-04,\n       4.00668923e-02, 4.77063483e-03, 1.69040079e-01, 4.51108931e-02,\n       5.21163233e-02, 4.79858424e-04, 5.15887468e-03, 1.97584228e-03,\n       5.02313840e-03, 1.86409158e-01, 6.63857836e-01, 2.06882653e-01,\n       8.23086471e-01, 6.95472893e-01, 8.79982946e-03, 1.19122560e-01,\n       2.55098358e-03, 3.49680429e-03, 2.03238706e-02, 3.52383294e-02,\n       5.20680080e-03, 2.66054089e-03, 7.98777212e-02, 9.55249575e-01,\n       2.74856028e-03, 8.47202859e-02, 4.41108057e-03, 3.70880972e-01,\n       3.73533497e-03, 2.61896318e-01, 3.84626784e-03, 2.73906470e-04,\n       6.99236448e-02, 1.72977441e-01, 4.88870432e-01, 9.62351949e-02,\n       1.04472025e-01, 9.75589690e-01, 9.91189687e-01, 1.08025725e-03,\n       3.00781780e-04, 3.32814499e-01, 7.68000771e-04, 1.67915725e-01,\n       2.13763601e-03, 7.63044309e-01, 1.19879709e-03, 7.30349349e-02,\n       6.14162675e-02, 1.35963994e-01, 5.66684946e-02, 5.51157039e-01,\n       3.71942054e-02, 8.39843182e-01, 9.44292853e-01, 9.98025215e-01,\n       9.80566159e-01, 9.00823926e-02, 7.45154365e-02, 5.12938910e-02,\n       6.62303899e-04, 2.49266325e-02, 6.27713932e-01, 4.67174798e-01,\n       1.33397571e-01, 3.36720044e-02, 1.95935927e-01, 3.29741685e-02,\n       6.21128368e-02, 8.02726409e-03, 1.50071930e-02, 5.99316832e-03,\n       2.15855150e-02, 3.95411876e-02, 7.35196819e-03, 5.63986087e-01,\n       2.29149898e-02, 4.34043059e-01, 1.00618751e-02, 4.52574116e-02,\n       1.68997169e-03, 1.94291932e-03, 3.94637175e-03, 2.49548891e-01,\n       3.15824174e-02, 7.04501966e-03, 1.53674177e-02, 2.84167931e-02,\n       4.06026260e-02, 5.39063328e-04, 1.37922529e-02, 2.79241393e-03,\n       9.37524743e-01, 8.49744904e-01, 2.16009151e-02, 4.31086943e-02,\n       2.02269610e-01, 4.66912176e-03, 7.47778495e-02, 2.82049777e-02,\n       1.86053492e-02, 3.97307518e-02, 5.73537890e-03, 2.51992002e-03,\n       6.44466668e-01, 8.90051581e-03, 4.71555339e-01, 7.64993452e-02,\n       1.26898088e-01, 6.47057277e-02, 2.78249427e-03, 9.03719863e-01,\n       1.75883577e-02, 7.70643655e-02, 2.05776165e-01, 5.51228689e-02,\n       2.74171684e-03, 3.74752928e-03, 6.72391160e-02, 1.04979302e-02,\n       3.95191457e-01, 9.15165253e-04, 8.50780694e-02, 3.30528901e-02,\n       2.12521746e-01, 3.12044002e-04, 2.27868252e-02, 9.02302358e-02,\n       1.27271723e-01, 4.10133579e-02, 1.50965541e-01, 1.68154526e-01,\n       2.31180384e-02, 3.12872193e-02, 1.36275331e-01, 1.40352516e-01,\n       2.65624298e-01, 5.54871466e-03, 3.33113555e-01, 5.48336047e-02,\n       4.03621015e-03, 7.12601430e-04, 6.31669954e-02, 1.06252895e-01,\n       4.37463117e-03, 8.58739073e-02, 8.95594867e-01, 6.69030308e-01,\n       4.24684663e-01, 5.54518469e-03, 8.46323570e-04, 1.59827252e-02,\n       9.02045894e-03, 1.25504499e-01, 3.48790734e-02, 7.68691714e-01,\n       8.08083316e-03, 4.10117665e-01, 3.47814972e-03, 1.16397678e-02,\n       4.69621301e-02, 1.53059970e-01, 1.06160419e-03, 1.15276052e-02,\n       5.85755033e-03, 4.91668617e-04, 9.92878354e-01, 9.48702373e-01,\n       6.87464915e-01, 1.49456779e-02, 8.66955064e-03, 5.45710054e-01])"
     },
     "execution_count": 15,
     "metadata": {},
     "output_type": "execute_result"
    }
   ],
   "source": [
    "y_pred"
   ],
   "metadata": {
    "collapsed": false
   }
  },
  {
   "cell_type": "code",
   "execution_count": 20,
   "outputs": [
    {
     "name": "stderr",
     "output_type": "stream",
     "text": [
      "C:\\Users\\Polo\\AppData\\Local\\Temp\\ipykernel_25196\\345166561.py:1: DtypeWarning: Columns (3,4,5,15) have mixed types. Specify dtype option on import or set low_memory=False.\n",
      "  df = pd.read_csv(\n"
     ]
    },
    {
     "data": {
      "text/plain": "sample_flag                  int64\nid                          object\nprov_id                      int64\nmage_status                 object\nocpn_code                   object\n                            ...   \navg_6m_112002_flux_all     float64\navg_6m_107004_click_cnt    float64\navg_6m_107004_app_cnt      float64\navg_6m_107004_flux_all     float64\nmonth                        int64\nLength: 69, dtype: object"
     },
     "execution_count": 20,
     "metadata": {},
     "output_type": "execute_result"
    }
   ],
   "source": [
    "df = pd.read_csv(\n",
    "    r'D:\\huancun\\WeChat Files\\wxid_7fjwgckpy7m522\\FileStorage\\File\\2023-09\\dw_casl_user_sample_feature_all.csv')\n",
    "df.dtypes"
   ],
   "metadata": {
    "collapsed": false
   }
  },
  {
   "cell_type": "code",
   "execution_count": 22,
   "outputs": [
    {
     "name": "stderr",
     "output_type": "stream",
     "text": [
      "C:\\Users\\Polo\\AppData\\Local\\Temp\\ipykernel_25196\\3619377424.py:1: DtypeWarning: Columns (3,4,5,15) have mixed types. Specify dtype option on import or set low_memory=False.\n",
      "  df = pd.read_csv(\n"
     ]
    }
   ],
   "source": [
    "\n",
    "df = pd.read_csv(\n",
    "    r'D:\\huancun\\WeChat Files\\wxid_7fjwgckpy7m522\\FileStorage\\File\\2023-09\\dw_casl_user_sample_feature_all.csv')\n",
    "# 空值处理\n",
    "df.loc[df['is_comm_user'] == r'\\N', 'is_comm_user'] = None  # 是否为移动用户\\N置为空值\n",
    "df.loc[df['is_init_comm_user'] == r'\\N', 'is_init_comm_user'] = None  # 是否主动通信用户\\N置为空值\n",
    "df.loc[df['cust_star'] == r'\\N', 'cust_star'] = None  # 客户星级\\N置为空值\n",
    "df.loc[df['dome_roam_flux_days'] == r'\\N', 'dome_roam_flux_days'] = None  # 省际漫游流量天数\\N置为空值\n",
    "df.loc[df['inter_roam_flux_days'] == r'\\N', 'inter_roam_flux_days'] = None  # 国际漫游流量天数\\N置为空值\n",
    "df.loc[df['idcard_birth_area'] == r'\\N', 'idcard_birth_area'] = None  # 身份证出生地\\N置为空值\n",
    "df['dou'].fillna(0, inplace=True)  # 使用流量为空值的默认为0\n",
    "df['is_comm_user'].fillna(0, inplace=True)  # 是否为移动用户的空值默认为0\n",
    "df['is_init_comm_user'].fillna(0, inplace=True)  # 是否主动通信用户的空值默认为0\n",
    "df['cust_star'].fillna(0, inplace=True)  # 客户星级的空值默认为0\n",
    "df['vip_cust_id'].fillna(0, inplace=True)  # 重要客户标识的空值默认为0\n",
    "df['dome_roam_flux_days'].fillna(int(df[df['dome_roam_flux_days'].notnull()]['dome_roam_flux_days'].astype(int).mean()),\n",
    "                                 inplace=True)  # 省际漫游流量天数填充为平均值\n",
    "df['inter_roam_flux_days'].fillna(\n",
    "    int(df[df['inter_roam_flux_days'].notnull()]['inter_roam_flux_days'].astype(int).mean()),\n",
    "    inplace=True)  # 国际漫游流量天数填充为平均值\n",
    "df.drop(df[df['mage_status'] == r\"\\N\"].index, inplace=True)  # 删除mage_status等于\\N的35行\n",
    "df.drop(df[df['educat_degree_code'] == r\"\\N\"].index, inplace=True)  # 删除educat_degree_code等于\\N的35行\n",
    "df.drop(df[df['ocpn_code'] == r\"\\N\"].index, inplace=True)  # 删除ocpn_code等于\\N的35行\n",
    "df.drop(df[df['idcard_birth_area'].isnull()].index, inplace=True)  # 删除身份证出生地为空值的496个数据\n",
    "\n",
    "# 时间处理\n",
    "df1 = pd.to_datetime(df['month'], format=\"%Y%m\")\n",
    "df['year'] = df1.dt.year\n",
    "df['month'] = df1.dt.month\n",
    "df = pd.get_dummies(df, columns=['month'], dtype=int)  # 时间独热编码\n",
    "df_id = df['id']\n",
    "df=df.drop(['id'],axis=1)\n",
    "df = df.astype(float)  # 类型转换"
   ],
   "metadata": {
    "collapsed": false
   }
  },
  {
   "cell_type": "code",
   "execution_count": 23,
   "outputs": [
    {
     "data": {
      "text/plain": "sample_flag           float64\nprov_id               float64\nmage_status           float64\nocpn_code             float64\neducat_degree_code    float64\n                       ...   \nmonth_8               float64\nmonth_9               float64\nmonth_10              float64\nmonth_11              float64\nmonth_12              float64\nLength: 78, dtype: object"
     },
     "execution_count": 23,
     "metadata": {},
     "output_type": "execute_result"
    }
   ],
   "source": [
    "df.dtypes"
   ],
   "metadata": {
    "collapsed": false
   }
  },
  {
   "cell_type": "code",
   "execution_count": 24,
   "outputs": [
    {
     "data": {
      "text/plain": "        sample_flag  prov_id  mage_status  ocpn_code  educat_degree_code  \\\n0               1.0  11700.0          1.0        1.0                 1.0   \n1               1.0  11700.0          1.0        1.0                 1.0   \n2               0.0  11700.0          0.0       99.0                99.0   \n3               0.0  10900.0          3.0       99.0                 1.0   \n4               0.0  12300.0          3.0       99.0                 1.0   \n...             ...      ...          ...        ...                 ...   \n200345          0.0  10900.0          3.0       99.0                 1.0   \n200346          1.0  11100.0          3.0       99.0                 1.0   \n200347          0.0  12400.0          3.0       99.0                 3.0   \n200348          0.0  12400.0          3.0       99.0                 3.0   \n200349          0.0  11400.0          3.0       99.0                 1.0   \n\n        age_level  sex  cm_cons_tot_amt  innet_dura      dou  ...  month_1  \\\n0             5.0  1.0              8.0        44.0  41002.0  ...      0.0   \n1             5.0  1.0              8.0        46.0  17558.0  ...      0.0   \n2             3.0  2.0             31.0         4.0      0.0  ...      0.0   \n3             9.0  1.0              5.0        56.0  20176.0  ...      0.0   \n4             5.0  1.0             11.0        19.0    481.0  ...      0.0   \n...           ...  ...              ...         ...      ...  ...      ...   \n200345        5.0  1.0              2.0        17.0   1260.0  ...      0.0   \n200346        6.0  2.0              4.0       110.0   2366.0  ...      0.0   \n200347        6.0  1.0              4.0       117.0     32.0  ...      1.0   \n200348        6.0  1.0              4.0       117.0     32.0  ...      1.0   \n200349       13.0  1.0              3.0       117.0      5.0  ...      0.0   \n\n        month_2  month_3  month_4  month_7  month_8  month_9  month_10  \\\n0           0.0      0.0      0.0      0.0      1.0      0.0       0.0   \n1           0.0      0.0      0.0      0.0      0.0      0.0       1.0   \n2           0.0      0.0      0.0      0.0      0.0      1.0       0.0   \n3           0.0      0.0      0.0      0.0      0.0      0.0       1.0   \n4           0.0      0.0      0.0      0.0      1.0      0.0       0.0   \n...         ...      ...      ...      ...      ...      ...       ...   \n200345      0.0      0.0      0.0      0.0      0.0      0.0       0.0   \n200346      0.0      0.0      0.0      0.0      0.0      0.0       1.0   \n200347      0.0      0.0      0.0      0.0      0.0      0.0       0.0   \n200348      0.0      0.0      0.0      0.0      0.0      0.0       0.0   \n200349      0.0      0.0      0.0      0.0      1.0      0.0       0.0   \n\n        month_11  month_12  \n0            0.0       0.0  \n1            0.0       0.0  \n2            0.0       0.0  \n3            0.0       0.0  \n4            0.0       0.0  \n...          ...       ...  \n200345       0.0       1.0  \n200346       0.0       0.0  \n200347       0.0       0.0  \n200348       0.0       0.0  \n200349       0.0       0.0  \n\n[199854 rows x 78 columns]",
      "text/html": "<div>\n<style scoped>\n    .dataframe tbody tr th:only-of-type {\n        vertical-align: middle;\n    }\n\n    .dataframe tbody tr th {\n        vertical-align: top;\n    }\n\n    .dataframe thead th {\n        text-align: right;\n    }\n</style>\n<table border=\"1\" class=\"dataframe\">\n  <thead>\n    <tr style=\"text-align: right;\">\n      <th></th>\n      <th>sample_flag</th>\n      <th>prov_id</th>\n      <th>mage_status</th>\n      <th>ocpn_code</th>\n      <th>educat_degree_code</th>\n      <th>age_level</th>\n      <th>sex</th>\n      <th>cm_cons_tot_amt</th>\n      <th>innet_dura</th>\n      <th>dou</th>\n      <th>...</th>\n      <th>month_1</th>\n      <th>month_2</th>\n      <th>month_3</th>\n      <th>month_4</th>\n      <th>month_7</th>\n      <th>month_8</th>\n      <th>month_9</th>\n      <th>month_10</th>\n      <th>month_11</th>\n      <th>month_12</th>\n    </tr>\n  </thead>\n  <tbody>\n    <tr>\n      <th>0</th>\n      <td>1.0</td>\n      <td>11700.0</td>\n      <td>1.0</td>\n      <td>1.0</td>\n      <td>1.0</td>\n      <td>5.0</td>\n      <td>1.0</td>\n      <td>8.0</td>\n      <td>44.0</td>\n      <td>41002.0</td>\n      <td>...</td>\n      <td>0.0</td>\n      <td>0.0</td>\n      <td>0.0</td>\n      <td>0.0</td>\n      <td>0.0</td>\n      <td>1.0</td>\n      <td>0.0</td>\n      <td>0.0</td>\n      <td>0.0</td>\n      <td>0.0</td>\n    </tr>\n    <tr>\n      <th>1</th>\n      <td>1.0</td>\n      <td>11700.0</td>\n      <td>1.0</td>\n      <td>1.0</td>\n      <td>1.0</td>\n      <td>5.0</td>\n      <td>1.0</td>\n      <td>8.0</td>\n      <td>46.0</td>\n      <td>17558.0</td>\n      <td>...</td>\n      <td>0.0</td>\n      <td>0.0</td>\n      <td>0.0</td>\n      <td>0.0</td>\n      <td>0.0</td>\n      <td>0.0</td>\n      <td>0.0</td>\n      <td>1.0</td>\n      <td>0.0</td>\n      <td>0.0</td>\n    </tr>\n    <tr>\n      <th>2</th>\n      <td>0.0</td>\n      <td>11700.0</td>\n      <td>0.0</td>\n      <td>99.0</td>\n      <td>99.0</td>\n      <td>3.0</td>\n      <td>2.0</td>\n      <td>31.0</td>\n      <td>4.0</td>\n      <td>0.0</td>\n      <td>...</td>\n      <td>0.0</td>\n      <td>0.0</td>\n      <td>0.0</td>\n      <td>0.0</td>\n      <td>0.0</td>\n      <td>0.0</td>\n      <td>1.0</td>\n      <td>0.0</td>\n      <td>0.0</td>\n      <td>0.0</td>\n    </tr>\n    <tr>\n      <th>3</th>\n      <td>0.0</td>\n      <td>10900.0</td>\n      <td>3.0</td>\n      <td>99.0</td>\n      <td>1.0</td>\n      <td>9.0</td>\n      <td>1.0</td>\n      <td>5.0</td>\n      <td>56.0</td>\n      <td>20176.0</td>\n      <td>...</td>\n      <td>0.0</td>\n      <td>0.0</td>\n      <td>0.0</td>\n      <td>0.0</td>\n      <td>0.0</td>\n      <td>0.0</td>\n      <td>0.0</td>\n      <td>1.0</td>\n      <td>0.0</td>\n      <td>0.0</td>\n    </tr>\n    <tr>\n      <th>4</th>\n      <td>0.0</td>\n      <td>12300.0</td>\n      <td>3.0</td>\n      <td>99.0</td>\n      <td>1.0</td>\n      <td>5.0</td>\n      <td>1.0</td>\n      <td>11.0</td>\n      <td>19.0</td>\n      <td>481.0</td>\n      <td>...</td>\n      <td>0.0</td>\n      <td>0.0</td>\n      <td>0.0</td>\n      <td>0.0</td>\n      <td>0.0</td>\n      <td>1.0</td>\n      <td>0.0</td>\n      <td>0.0</td>\n      <td>0.0</td>\n      <td>0.0</td>\n    </tr>\n    <tr>\n      <th>...</th>\n      <td>...</td>\n      <td>...</td>\n      <td>...</td>\n      <td>...</td>\n      <td>...</td>\n      <td>...</td>\n      <td>...</td>\n      <td>...</td>\n      <td>...</td>\n      <td>...</td>\n      <td>...</td>\n      <td>...</td>\n      <td>...</td>\n      <td>...</td>\n      <td>...</td>\n      <td>...</td>\n      <td>...</td>\n      <td>...</td>\n      <td>...</td>\n      <td>...</td>\n      <td>...</td>\n    </tr>\n    <tr>\n      <th>200345</th>\n      <td>0.0</td>\n      <td>10900.0</td>\n      <td>3.0</td>\n      <td>99.0</td>\n      <td>1.0</td>\n      <td>5.0</td>\n      <td>1.0</td>\n      <td>2.0</td>\n      <td>17.0</td>\n      <td>1260.0</td>\n      <td>...</td>\n      <td>0.0</td>\n      <td>0.0</td>\n      <td>0.0</td>\n      <td>0.0</td>\n      <td>0.0</td>\n      <td>0.0</td>\n      <td>0.0</td>\n      <td>0.0</td>\n      <td>0.0</td>\n      <td>1.0</td>\n    </tr>\n    <tr>\n      <th>200346</th>\n      <td>1.0</td>\n      <td>11100.0</td>\n      <td>3.0</td>\n      <td>99.0</td>\n      <td>1.0</td>\n      <td>6.0</td>\n      <td>2.0</td>\n      <td>4.0</td>\n      <td>110.0</td>\n      <td>2366.0</td>\n      <td>...</td>\n      <td>0.0</td>\n      <td>0.0</td>\n      <td>0.0</td>\n      <td>0.0</td>\n      <td>0.0</td>\n      <td>0.0</td>\n      <td>0.0</td>\n      <td>1.0</td>\n      <td>0.0</td>\n      <td>0.0</td>\n    </tr>\n    <tr>\n      <th>200347</th>\n      <td>0.0</td>\n      <td>12400.0</td>\n      <td>3.0</td>\n      <td>99.0</td>\n      <td>3.0</td>\n      <td>6.0</td>\n      <td>1.0</td>\n      <td>4.0</td>\n      <td>117.0</td>\n      <td>32.0</td>\n      <td>...</td>\n      <td>1.0</td>\n      <td>0.0</td>\n      <td>0.0</td>\n      <td>0.0</td>\n      <td>0.0</td>\n      <td>0.0</td>\n      <td>0.0</td>\n      <td>0.0</td>\n      <td>0.0</td>\n      <td>0.0</td>\n    </tr>\n    <tr>\n      <th>200348</th>\n      <td>0.0</td>\n      <td>12400.0</td>\n      <td>3.0</td>\n      <td>99.0</td>\n      <td>3.0</td>\n      <td>6.0</td>\n      <td>1.0</td>\n      <td>4.0</td>\n      <td>117.0</td>\n      <td>32.0</td>\n      <td>...</td>\n      <td>1.0</td>\n      <td>0.0</td>\n      <td>0.0</td>\n      <td>0.0</td>\n      <td>0.0</td>\n      <td>0.0</td>\n      <td>0.0</td>\n      <td>0.0</td>\n      <td>0.0</td>\n      <td>0.0</td>\n    </tr>\n    <tr>\n      <th>200349</th>\n      <td>0.0</td>\n      <td>11400.0</td>\n      <td>3.0</td>\n      <td>99.0</td>\n      <td>1.0</td>\n      <td>13.0</td>\n      <td>1.0</td>\n      <td>3.0</td>\n      <td>117.0</td>\n      <td>5.0</td>\n      <td>...</td>\n      <td>0.0</td>\n      <td>0.0</td>\n      <td>0.0</td>\n      <td>0.0</td>\n      <td>0.0</td>\n      <td>1.0</td>\n      <td>0.0</td>\n      <td>0.0</td>\n      <td>0.0</td>\n      <td>0.0</td>\n    </tr>\n  </tbody>\n</table>\n<p>199854 rows × 78 columns</p>\n</div>"
     },
     "execution_count": 24,
     "metadata": {},
     "output_type": "execute_result"
    }
   ],
   "source": [
    "df"
   ],
   "metadata": {
    "collapsed": false
   }
  },
  {
   "cell_type": "code",
   "execution_count": null,
   "outputs": [],
   "source": [],
   "metadata": {
    "collapsed": false
   }
  }
 ],
 "metadata": {
  "kernelspec": {
   "display_name": "Python 3",
   "language": "python",
   "name": "python3"
  },
  "language_info": {
   "codemirror_mode": {
    "name": "ipython",
    "version": 2
   },
   "file_extension": ".py",
   "mimetype": "text/x-python",
   "name": "python",
   "nbconvert_exporter": "python",
   "pygments_lexer": "ipython2",
   "version": "2.7.6"
  }
 },
 "nbformat": 4,
 "nbformat_minor": 0
}
